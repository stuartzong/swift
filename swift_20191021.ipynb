{
 "cells": [
  {
   "cell_type": "markdown",
   "metadata": {},
   "source": [
    "https://www.bcgsc.ca/jira/browse/SYS-56333\n",
    "singular is installed at gphost03, the executable is here:  /usr/bin/singularity, the swift container is located at /projects/da_workspace/szspace/swift. so need to run on gphost03, go to the container directory, and activate a swift shell."
   ]
  },
  {
   "cell_type": "markdown",
   "metadata": {},
   "source": [
    "### this github repos might be helpful to set up the singularity swift container kernel in jupyter notebook\n",
    "https://github.com/clemsonciti/singularity-in-jupyter-notebook"
   ]
  },
  {
   "cell_type": "markdown",
   "metadata": {},
   "source": [
    "base) [szong@gphost03 swift]$ cd /projects/da_workspace/szspace/swift\n",
    "\n",
    "(base) [szong@gphost03 swift]$ /usr/bin/singularity shell swift_latest.sif\n",
    "\n",
    "Singularity swift_latest.sif:/projects/da_workspace/szspace/swift> swift\n",
    "\n",
    "Welcome to Swift version 5.1.1 (swift-5.1.1-RELEASE).\n",
    "Type :help for assistance.\n",
    "  1>  \n"
   ]
  },
  {
   "cell_type": "markdown",
   "metadata": {},
   "source": [
    "# add swift kernel to jupyter"
   ]
  },
  {
   "cell_type": "markdown",
   "metadata": {},
   "source": [
    "(fastai) [szong@szong01 xl]$ ll -a /projects/da_workspace/software/miniconda/envs/fastai/share/jupyter/kernels/\n",
    "\n",
    "total 12 \n",
    "\n",
    "drwxr-xr-x 3 szong users 4096 Sep 12  2018 .\n",
    "\n",
    "drwxr-xr-x 2 szong users 4096 Sep 12  2018 python3\n",
    "\n",
    "drwxr-xr-x 4 szong users 4096 Sep 12  2018 .."
   ]
  }
 ],
 "metadata": {
  "kernelspec": {
   "display_name": "Python 3",
   "language": "python",
   "name": "python3"
  },
  "language_info": {
   "codemirror_mode": {
    "name": "ipython",
    "version": 3
   },
   "file_extension": ".py",
   "mimetype": "text/x-python",
   "name": "python",
   "nbconvert_exporter": "python",
   "pygments_lexer": "ipython3",
   "version": "3.7.3"
  }
 },
 "nbformat": 4,
 "nbformat_minor": 2
}
