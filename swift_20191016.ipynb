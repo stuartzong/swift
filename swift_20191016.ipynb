{
 "cells": [
  {
   "cell_type": "markdown",
   "metadata": {},
   "source": [
    "[szong@gphost03 swift]$ /usr/bin/singularity pull docker://swift\n",
    "\n",
    "this give you access a shell in the container:\n",
    "\n",
    "/usr/bin/singularity shell swift_latest.sif \n",
    "\n",
    "type in swift, this gives you a swift environment\n",
    "\n",
    "Singularity swift_latest.sif:/projects/da_workspace/szspace/swift> swift\n",
    "\n"
   ]
  }
 ],
 "metadata": {
  "kernelspec": {
   "display_name": "Python 3",
   "language": "python",
   "name": "python3"
  },
  "language_info": {
   "codemirror_mode": {
    "name": "ipython",
    "version": 3
   },
   "file_extension": ".py",
   "mimetype": "text/x-python",
   "name": "python",
   "nbconvert_exporter": "python",
   "pygments_lexer": "ipython3",
   "version": "3.7.3"
  }
 },
 "nbformat": 4,
 "nbformat_minor": 2
}
